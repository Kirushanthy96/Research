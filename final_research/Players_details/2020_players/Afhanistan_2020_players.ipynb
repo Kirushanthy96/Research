{
 "cells": [
  {
   "cell_type": "code",
   "execution_count": 1,
   "id": "4c0af604",
   "metadata": {},
   "outputs": [],
   "source": [
    "import pandas as pd\n",
    "import numpy as np"
   ]
  },
  {
   "cell_type": "code",
   "execution_count": 2,
   "id": "b0f19469",
   "metadata": {},
   "outputs": [],
   "source": [
    "import matplotlib.pyplot as plt\n",
    "\n",
    "import seaborn as sns\n",
    "import plotly.express as px\n",
    "import ipywidgets as widgets\n",
    "from IPython.display import display\n",
    "\n",
    "\n",
    "from sklearn.preprocessing import StandardScaler,MinMaxScaler\n",
    "from sklearn.cluster import KMeans\n",
    "from sklearn.metrics import silhouette_score\n",
    "\n",
    "from scipy.cluster.hierarchy import linkage\n",
    "from scipy.cluster.hierarchy import dendrogram\n",
    "from scipy.cluster.hierarchy import cut_tree\n",
    "\n",
    "from sklearn.cluster import DBSCAN"
   ]
  },
  {
   "cell_type": "code",
   "execution_count": 3,
   "id": "f7318935",
   "metadata": {},
   "outputs": [],
   "source": [
    "plt.rcParams['figure.figsize'] = [6,4]\n",
    "plt.rcParams['figure.dpi'] = 200\n",
    "plt.rcParams[\"axes.grid\"] = False"
   ]
  },
  {
   "cell_type": "code",
   "execution_count": 4,
   "id": "2818bb1f",
   "metadata": {},
   "outputs": [],
   "source": [
    "%store -r Afhanistan_2020"
   ]
  },
  {
   "cell_type": "code",
   "execution_count": 5,
   "id": "b2e68c75",
   "metadata": {},
   "outputs": [
    {
     "data": {
      "text/html": [
       "<div>\n",
       "<style scoped>\n",
       "    .dataframe tbody tr th:only-of-type {\n",
       "        vertical-align: middle;\n",
       "    }\n",
       "\n",
       "    .dataframe tbody tr th {\n",
       "        vertical-align: top;\n",
       "    }\n",
       "\n",
       "    .dataframe thead th {\n",
       "        text-align: right;\n",
       "    }\n",
       "</style>\n",
       "<table border=\"1\" class=\"dataframe\">\n",
       "  <thead>\n",
       "    <tr style=\"text-align: right;\">\n",
       "      <th></th>\n",
       "      <th>Unnamed: 0_x</th>\n",
       "      <th>Player</th>\n",
       "      <th>Mat_x</th>\n",
       "      <th>Inns_x</th>\n",
       "      <th>NO</th>\n",
       "      <th>Runs_x</th>\n",
       "      <th>HS</th>\n",
       "      <th>Ave_x</th>\n",
       "      <th>BF</th>\n",
       "      <th>SR_x</th>\n",
       "      <th>...</th>\n",
       "      <th>Runs_y</th>\n",
       "      <th>Wkts</th>\n",
       "      <th>BBI</th>\n",
       "      <th>Ave_y</th>\n",
       "      <th>Econ</th>\n",
       "      <th>SR_y</th>\n",
       "      <th>4</th>\n",
       "      <th>5</th>\n",
       "      <th>Ct</th>\n",
       "      <th>St</th>\n",
       "    </tr>\n",
       "  </thead>\n",
       "  <tbody>\n",
       "  </tbody>\n",
       "</table>\n",
       "<p>0 rows × 30 columns</p>\n",
       "</div>"
      ],
      "text/plain": [
       "Empty DataFrame\n",
       "Columns: [Unnamed: 0_x, Player, Mat_x, Inns_x, NO, Runs_x, HS, Ave_x, BF, SR_x, 100, 50, 0, 4s, 6s, Unnamed: 0_y, Mat_y, Inns_y, Overs, Mdns, Runs_y, Wkts, BBI, Ave_y, Econ, SR_y, 4, 5, Ct, St]\n",
       "Index: []\n",
       "\n",
       "[0 rows x 30 columns]"
      ]
     },
     "execution_count": 5,
     "metadata": {},
     "output_type": "execute_result"
    }
   ],
   "source": [
    "Afhanistan_2020"
   ]
  },
  {
   "cell_type": "code",
   "execution_count": 6,
   "id": "b4b3a15c",
   "metadata": {},
   "outputs": [],
   "source": [
    "Afhanistan_Cluster_2020 = np.array([0,0,0])"
   ]
  },
  {
   "cell_type": "code",
   "execution_count": 7,
   "id": "cfe84d70",
   "metadata": {},
   "outputs": [
    {
     "data": {
      "text/plain": [
       "array([0, 0, 0])"
      ]
     },
     "execution_count": 7,
     "metadata": {},
     "output_type": "execute_result"
    }
   ],
   "source": [
    "Afhanistan_Cluster_2020"
   ]
  },
  {
   "cell_type": "code",
   "execution_count": 8,
   "id": "cec41ee5",
   "metadata": {},
   "outputs": [
    {
     "name": "stdout",
     "output_type": "stream",
     "text": [
      "Stored 'Afhanistan_Cluster_2020' (ndarray)\n"
     ]
    }
   ],
   "source": [
    "%store Afhanistan_Cluster_2020"
   ]
  },
  {
   "cell_type": "code",
   "execution_count": 9,
   "id": "14972d91",
   "metadata": {},
   "outputs": [],
   "source": [
    "Afhanistan_Ave_2020 = np.array([0.0,0.0])"
   ]
  },
  {
   "cell_type": "code",
   "execution_count": 10,
   "id": "1d774487",
   "metadata": {},
   "outputs": [
    {
     "data": {
      "text/plain": [
       "array([0., 0.])"
      ]
     },
     "execution_count": 10,
     "metadata": {},
     "output_type": "execute_result"
    }
   ],
   "source": [
    "Afhanistan_Ave_2020"
   ]
  },
  {
   "cell_type": "code",
   "execution_count": 11,
   "id": "652c2145",
   "metadata": {},
   "outputs": [
    {
     "name": "stdout",
     "output_type": "stream",
     "text": [
      "Stored 'Afhanistan_Ave_2020' (ndarray)\n"
     ]
    }
   ],
   "source": [
    "%store Afhanistan_Ave_2020"
   ]
  },
  {
   "cell_type": "code",
   "execution_count": null,
   "id": "bf16c79c",
   "metadata": {},
   "outputs": [],
   "source": []
  },
  {
   "cell_type": "code",
   "execution_count": null,
   "id": "a2709b71",
   "metadata": {},
   "outputs": [],
   "source": []
  }
 ],
 "metadata": {
  "kernelspec": {
   "display_name": "Python 3",
   "language": "python",
   "name": "python3"
  },
  "language_info": {
   "codemirror_mode": {
    "name": "ipython",
    "version": 3
   },
   "file_extension": ".py",
   "mimetype": "text/x-python",
   "name": "python",
   "nbconvert_exporter": "python",
   "pygments_lexer": "ipython3",
   "version": "3.8.8"
  }
 },
 "nbformat": 4,
 "nbformat_minor": 5
}
