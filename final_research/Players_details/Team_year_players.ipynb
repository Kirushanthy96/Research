{
 "cells": [
  {
   "cell_type": "code",
   "execution_count": 2,
   "id": "0e1f75e8",
   "metadata": {},
   "outputs": [],
   "source": [
    "import pandas as pd\n",
    "import numpy as np"
   ]
  },
  {
   "cell_type": "code",
   "execution_count": 3,
   "id": "195de6d9",
   "metadata": {},
   "outputs": [],
   "source": [
    "All_players_2018_bat=pd.read_excel(r\"C:\\Users\\acer\\Documents\\Research projects\\My research\\Datasets\\All_players_2018_bat.xlsx\")\n",
    "All_players_2019_bat=pd.read_excel(r\"C:\\Users\\acer\\Documents\\Research projects\\My research\\Datasets\\All_players_2019_bat.xlsx\")\n",
    "All_players_2020_bat=pd.read_excel(r\"C:\\Users\\acer\\Documents\\Research projects\\My research\\Datasets\\All_players_2020_bat.xlsx\")\n",
    "All_players_2021_bat=pd.read_excel(r\"C:\\Users\\acer\\Documents\\Research projects\\My research\\Datasets\\All_players_2021_bat.xlsx\")\n"
   ]
  },
  {
   "cell_type": "code",
   "execution_count": 4,
   "id": "ed923cd2",
   "metadata": {},
   "outputs": [],
   "source": [
    "All_players_2018_bow=pd.read_excel(r\"C:\\Users\\acer\\Documents\\Research projects\\My research\\Datasets\\All_players_2018_bow.xlsx\")\n",
    "All_players_2019_bow=pd.read_excel(r\"C:\\Users\\acer\\Documents\\Research projects\\My research\\Datasets\\All_players_2019_bow.xlsx\")\n",
    "All_players_2020_bow=pd.read_excel(r\"C:\\Users\\acer\\Documents\\Research projects\\My research\\Datasets\\All_players_2020_bow.xlsx\")\n",
    "All_players_2021_bow=pd.read_excel(r\"C:\\Users\\acer\\Documents\\Research projects\\My research\\Datasets\\All_players_2021_bow.xlsx\")"
   ]
  },
  {
   "cell_type": "code",
   "execution_count": 5,
   "id": "11ec5177",
   "metadata": {},
   "outputs": [],
   "source": [
    "All_players_2018 = pd.merge(All_players_2018_bat,All_players_2018_bow,how='inner',on='Player')\n",
    "All_players_2019 = pd.merge(All_players_2019_bat,All_players_2019_bow,how='inner',on='Player')\n",
    "All_players_2020 = pd.merge(All_players_2020_bat,All_players_2020_bow,how='inner',on='Player')\n",
    "All_players_2021 = pd.merge(All_players_2021_bat,All_players_2021_bow,how='inner',on='Player')"
   ]
  },
  {
   "cell_type": "code",
   "execution_count": 6,
   "id": "e5b17f1f",
   "metadata": {},
   "outputs": [],
   "source": [
    "Srilanka_2018= All_players_2018[All_players_2018['Player'].str.contains(\"SL\")]\n",
    "India_2018= All_players_2018[All_players_2018['Player'].str.contains(\"INDIA\")]\n",
    "pakistan_2018= All_players_2018[All_players_2018['Player'].str.contains(\"PAK\")]\n",
    "Bankaladesh_2018= All_players_2018[All_players_2018['Player'].str.contains(\"BAN\")]\n",
    "Newzeleand_2018= All_players_2018[All_players_2018['Player'].str.contains(\"NZ\")]\n",
    "England_2018= All_players_2018[All_players_2018['Player'].str.contains(\"ENG\")]\n",
    "WestIndies_2018= All_players_2018[All_players_2018['Player'].str.contains(\"WI\")]\n",
    "SouthAfrica_2018= All_players_2018[All_players_2018['Player'].str.contains(\"SA\")]\n",
    "Ireland_2018= All_players_2018[All_players_2018['Player'].str.contains(\"IRE\")]\n",
    "Scotland_2018= All_players_2018[All_players_2018['Player'].str.contains(\"SCOT\")]\n",
    "Australia_2018= All_players_2018[All_players_2018['Player'].str.contains(\"AUS\")]\n",
    "Afhanistan_2018= All_players_2018[All_players_2018['Player'].str.contains(\"AFG\")]"
   ]
  },
  {
   "cell_type": "code",
   "execution_count": 7,
   "id": "00bfb5ba",
   "metadata": {},
   "outputs": [],
   "source": [
    "Srilanka_2019= All_players_2019[All_players_2019['Player'].str.contains(\"SL\")]\n",
    "India_2019= All_players_2019[All_players_2019['Player'].str.contains(\"INDIA\")]\n",
    "pakistan_2019= All_players_2019[All_players_2019['Player'].str.contains(\"PAK\")]\n",
    "Bankaladesh_2019= All_players_2019[All_players_2019['Player'].str.contains(\"BAN\")]\n",
    "Newzeleand_2019= All_players_2019[All_players_2019['Player'].str.contains(\"NZ\")]\n",
    "England_2019= All_players_2019[All_players_2019['Player'].str.contains(\"ENG\")]\n",
    "WestIndies_2019= All_players_2019[All_players_2019['Player'].str.contains(\"WI\")]\n",
    "SouthAfrica_2019= All_players_2019[All_players_2019['Player'].str.contains(\"SA\")]\n",
    "Ireland_2019= All_players_2019[All_players_2019['Player'].str.contains(\"IRE\")]\n",
    "Scotland_2019= All_players_2019[All_players_2019['Player'].str.contains(\"SCOT\")]\n",
    "Australia_2019= All_players_2019[All_players_2019['Player'].str.contains(\"AUS\")]\n",
    "Afhanistan_2019= All_players_2019[All_players_2019['Player'].str.contains(\"AFG\")]"
   ]
  },
  {
   "cell_type": "code",
   "execution_count": 8,
   "id": "02f4b235",
   "metadata": {},
   "outputs": [],
   "source": [
    "Srilanka_2020= All_players_2020[All_players_2020['Player'].str.contains(\"SL\")]\n",
    "India_2020= All_players_2020[All_players_2020['Player'].str.contains(\"INDIA\")]\n",
    "pakistan_2020= All_players_2020[All_players_2020['Player'].str.contains(\"PAK\")]\n",
    "Bankaladesh_2020= All_players_2020[All_players_2020['Player'].str.contains(\"BAN\")]\n",
    "Newzeleand_2020= All_players_2020[All_players_2020['Player'].str.contains(\"NZ\")]\n",
    "England_2020= All_players_2020[All_players_2020['Player'].str.contains(\"ENG\")]\n",
    "WestIndies_2020= All_players_2020[All_players_2020['Player'].str.contains(\"WI\")]\n",
    "SouthAfrica_2020= All_players_2020[All_players_2020['Player'].str.contains(\"SA\")]\n",
    "Ireland_2020= All_players_2020[All_players_2020['Player'].str.contains(\"IRE\")]\n",
    "Scotland_2020= All_players_2020[All_players_2020['Player'].str.contains(\"SCOT\")]\n",
    "Australia_2020= All_players_2020[All_players_2020['Player'].str.contains(\"AUS\")]\n",
    "Afhanistan_2020= All_players_2020[All_players_2020['Player'].str.contains(\"AFG\")]"
   ]
  },
  {
   "cell_type": "code",
   "execution_count": 9,
   "id": "c777933f",
   "metadata": {},
   "outputs": [],
   "source": [
    "Srilanka_2021= All_players_2021[All_players_2021['Player'].str.contains(\"SL\")]\n",
    "India_2021= All_players_2021[All_players_2021['Player'].str.contains(\"INDIA\")]\n",
    "pakistan_2021= All_players_2021[All_players_2021['Player'].str.contains(\"PAK\")]\n",
    "Bankaladesh_2021= All_players_2021[All_players_2021['Player'].str.contains(\"BAN\")]\n",
    "Newzeleand_2021= All_players_2021[All_players_2021['Player'].str.contains(\"NZ\")]\n",
    "England_2021= All_players_2021[All_players_2021['Player'].str.contains(\"ENG\")]\n",
    "WestIndies_2021= All_players_2021[All_players_2021['Player'].str.contains(\"WI\")]\n",
    "SouthAfrica_2021= All_players_2021[All_players_2021['Player'].str.contains(\"SA\")]\n",
    "Ireland_2021= All_players_2021[All_players_2021['Player'].str.contains(\"IRE\")]\n",
    "Scotland_2021= All_players_2021[All_players_2021['Player'].str.contains(\"SCOT\")]\n",
    "Australia_2021= All_players_2021[All_players_2021['Player'].str.contains(\"AUS\")]\n",
    "Afhanistan_2021= All_players_2021[All_players_2021['Player'].str.contains(\"AFG\")]"
   ]
  },
  {
   "cell_type": "code",
   "execution_count": 9,
   "id": "65574ea9",
   "metadata": {},
   "outputs": [
    {
     "name": "stdout",
     "output_type": "stream",
     "text": [
      "Stored 'Srilanka_2018' (DataFrame)\n"
     ]
    }
   ],
   "source": [
    "%store Srilanka_2018"
   ]
  },
  {
   "cell_type": "code",
   "execution_count": 10,
   "id": "4261f2b4",
   "metadata": {},
   "outputs": [
    {
     "name": "stdout",
     "output_type": "stream",
     "text": [
      "Stored 'India_2018' (DataFrame)\n",
      "Stored 'pakistan_2018' (DataFrame)\n",
      "Stored 'Bankaladesh_2018' (DataFrame)\n",
      "Stored 'Newzeleand_2018' (DataFrame)\n",
      "Stored 'England_2018' (DataFrame)\n",
      "Stored 'WestIndies_2018' (DataFrame)\n",
      "Stored 'SouthAfrica_2018' (DataFrame)\n",
      "Stored 'Ireland_2018' (DataFrame)\n",
      "Stored 'Scotland_2018' (DataFrame)\n",
      "Stored 'Australia_2018' (DataFrame)\n",
      "Stored 'Afhanistan_2018' (DataFrame)\n"
     ]
    }
   ],
   "source": [
    "%store India_2018\n",
    "%store pakistan_2018\n",
    "%store Bankaladesh_2018\n",
    "%store Newzeleand_2018\n",
    "%store England_2018\n",
    "%store WestIndies_2018\n",
    "%store SouthAfrica_2018\n",
    "%store Ireland_2018\n",
    "%store Scotland_2018\n",
    "%store Australia_2018\n",
    "%store Afhanistan_2018"
   ]
  },
  {
   "cell_type": "code",
   "execution_count": 13,
   "id": "c86c676b",
   "metadata": {},
   "outputs": [
    {
     "name": "stdout",
     "output_type": "stream",
     "text": [
      "Stored 'Srilanka_2019' (DataFrame)\n",
      "Stored 'India_2019' (DataFrame)\n",
      "Stored 'pakistan_2019' (DataFrame)\n",
      "Stored 'Bankaladesh_2019' (DataFrame)\n",
      "Stored 'Newzeleand_2019' (DataFrame)\n",
      "Stored 'England_2019' (DataFrame)\n",
      "Stored 'WestIndies_2019' (DataFrame)\n",
      "Stored 'SouthAfrica_2019' (DataFrame)\n",
      "Stored 'Ireland_2019' (DataFrame)\n",
      "Stored 'Scotland_2019' (DataFrame)\n",
      "Stored 'Australia_2019' (DataFrame)\n",
      "Stored 'Afhanistan_2019' (DataFrame)\n"
     ]
    }
   ],
   "source": [
    "%store Srilanka_2019\n",
    "%store India_2019\n",
    "%store pakistan_2019\n",
    "%store Bankaladesh_2019\n",
    "%store Newzeleand_2019\n",
    "%store England_2019\n",
    "%store WestIndies_2019\n",
    "%store SouthAfrica_2019\n",
    "%store Ireland_2019\n",
    "%store Scotland_2019\n",
    "%store Australia_2019\n",
    "%store Afhanistan_2019"
   ]
  },
  {
   "cell_type": "code",
   "execution_count": 14,
   "id": "c6099f1c",
   "metadata": {},
   "outputs": [
    {
     "name": "stdout",
     "output_type": "stream",
     "text": [
      "Stored 'Srilanka_2020' (DataFrame)\n",
      "Stored 'India_2020' (DataFrame)\n",
      "Stored 'pakistan_2020' (DataFrame)\n",
      "Stored 'Bankaladesh_2020' (DataFrame)\n",
      "Stored 'Newzeleand_2020' (DataFrame)\n",
      "Stored 'England_2020' (DataFrame)\n",
      "Stored 'WestIndies_2020' (DataFrame)\n",
      "Stored 'SouthAfrica_2020' (DataFrame)\n",
      "Stored 'Ireland_2020' (DataFrame)\n",
      "Stored 'Scotland_2020' (DataFrame)\n",
      "Stored 'Australia_2020' (DataFrame)\n",
      "Stored 'Afhanistan_2020' (DataFrame)\n"
     ]
    }
   ],
   "source": [
    "%store Srilanka_2020\n",
    "%store India_2020\n",
    "%store pakistan_2020\n",
    "%store Bankaladesh_2020\n",
    "%store Newzeleand_2020\n",
    "%store England_2020\n",
    "%store WestIndies_2020\n",
    "%store SouthAfrica_2020\n",
    "%store Ireland_2020\n",
    "%store Scotland_2020\n",
    "%store Australia_2020\n",
    "%store Afhanistan_2020"
   ]
  },
  {
   "cell_type": "code",
   "execution_count": 15,
   "id": "31863298",
   "metadata": {},
   "outputs": [
    {
     "name": "stdout",
     "output_type": "stream",
     "text": [
      "Stored 'Srilanka_2021' (DataFrame)\n",
      "Stored 'India_2021' (DataFrame)\n",
      "Stored 'pakistan_2021' (DataFrame)\n",
      "Stored 'Bankaladesh_2021' (DataFrame)\n",
      "Stored 'Newzeleand_2021' (DataFrame)\n",
      "Stored 'England_2021' (DataFrame)\n",
      "Stored 'WestIndies_2021' (DataFrame)\n",
      "Stored 'SouthAfrica_2021' (DataFrame)\n",
      "Stored 'Ireland_2021' (DataFrame)\n",
      "Stored 'Scotland_2021' (DataFrame)\n",
      "Stored 'Australia_2021' (DataFrame)\n",
      "Stored 'Afhanistan_2021' (DataFrame)\n"
     ]
    }
   ],
   "source": [
    "%store Srilanka_2021\n",
    "%store India_2021\n",
    "%store pakistan_2021\n",
    "%store Bankaladesh_2021\n",
    "%store Newzeleand_2021\n",
    "%store England_2021\n",
    "%store WestIndies_2021\n",
    "%store SouthAfrica_2021\n",
    "%store Ireland_2021\n",
    "%store Scotland_2021\n",
    "%store Australia_2021\n",
    "%store Afhanistan_2021"
   ]
  },
  {
   "cell_type": "code",
   "execution_count": null,
   "id": "ae9bcbf6",
   "metadata": {},
   "outputs": [],
   "source": []
  }
 ],
 "metadata": {
  "kernelspec": {
   "display_name": "Python 3",
   "language": "python",
   "name": "python3"
  },
  "language_info": {
   "codemirror_mode": {
    "name": "ipython",
    "version": 3
   },
   "file_extension": ".py",
   "mimetype": "text/x-python",
   "name": "python",
   "nbconvert_exporter": "python",
   "pygments_lexer": "ipython3",
   "version": "3.8.8"
  }
 },
 "nbformat": 4,
 "nbformat_minor": 5
}
